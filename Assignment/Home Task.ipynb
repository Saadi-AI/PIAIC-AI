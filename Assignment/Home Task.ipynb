{
 "cells": [
  {
   "cell_type": "code",
   "execution_count": 126,
   "metadata": {},
   "outputs": [
    {
     "data": {
      "text/plain": [
       "37.0"
      ]
     },
     "execution_count": 126,
     "metadata": {},
     "output_type": "execute_result"
    }
   ],
   "source": [
    "#Saad Khalil - 12:15 - 3:15 AI\n",
    "#PEMDAS\n",
    "21/3+(10%3)*2+(2**2)-21-(55*2)+7-8*(2/2)+200-40-(12/3)\n",
    "#7+2+4-21-110+7-8+200-40-4\n",
    "#37.0\n"
   ]
  },
  {
   "cell_type": "code",
   "execution_count": 127,
   "metadata": {},
   "outputs": [
    {
     "name": "stdout",
     "output_type": "stream",
     "text": [
      "saad khalil\n",
      "Saad khalil\n",
      "saad khalil\n",
      "3\n",
      "b'saad khalil'\n",
      "True\n",
      "saad khalil\n",
      "5\n"
     ]
    }
   ],
   "source": [
    "string = \"saad khalil\"\n",
    "print(string)\n",
    "print(string.capitalize())\n",
    "print(string.casefold())\n",
    "h = string.center(5)\n",
    "print(string.count(\"a\"))\n",
    "print(string.encode())\n",
    "print(string.endswith('l'))\n",
    "print(string.expandtabs())\n",
    "#print(string.file(2))\n",
    "print(string.find(\"k\"))\n"
   ]
  },
  {
   "cell_type": "markdown",
   "metadata": {},
   "source": [
    "##### 10%3"
   ]
  },
  {
   "cell_type": "code",
   "execution_count": 16,
   "metadata": {},
   "outputs": [
    {
     "data": {
      "text/plain": [
       "4"
      ]
     },
     "execution_count": 16,
     "metadata": {},
     "output_type": "execute_result"
    }
   ],
   "source": [
    "2**2\n"
   ]
  },
  {
   "cell_type": "code",
   "execution_count": 82,
   "metadata": {},
   "outputs": [
    {
     "name": "stdout",
     "output_type": "stream",
     "text": [
      "                  Saad         Khalil     \n",
      "total characters: 42\n",
      "Saad         Khalil     \n",
      "24\n",
      "                  Saad         Khalil\n",
      "37\n",
      "Saad         Khalil\n",
      "19\n"
     ]
    }
   ],
   "source": [
    "a = \"                  Saad         Khalil     \"\n",
    "print(a)\n",
    "print(\"total characters: \"+str(len(a)))\n",
    "print(a.lstrip())\n",
    "print(len(a.lstrip()))\n",
    "print(a.rstrip())\n",
    "print(len(a.rstrip()))\n",
    "print(a.strip())\n",
    "print(len(a.strip()))"
   ]
  },
  {
   "cell_type": "code",
   "execution_count": 83,
   "metadata": {},
   "outputs": [
    {
     "data": {
      "text/plain": [
       "['Saad', 'Khalil']"
      ]
     },
     "execution_count": 83,
     "metadata": {},
     "output_type": "execute_result"
    }
   ],
   "source": [
    "b = a.split()\n",
    "b\n"
   ]
  },
  {
   "cell_type": "code",
   "execution_count": 84,
   "metadata": {},
   "outputs": [
    {
     "data": {
      "text/plain": [
       "'Saad__Khalil'"
      ]
     },
     "execution_count": 84,
     "metadata": {},
     "output_type": "execute_result"
    }
   ],
   "source": [
    "\"__\".join(b)"
   ]
  },
  {
   "cell_type": "code",
   "execution_count": 86,
   "metadata": {},
   "outputs": [
    {
     "name": "stdout",
     "output_type": "stream",
     "text": [
      "pksa\n",
      "yrtnuoc ruo evol ew dna natsikap era ew\n",
      "7\n"
     ]
    },
    {
     "data": {
      "text/plain": [
       "'pakistan'"
      ]
     },
     "execution_count": 86,
     "metadata": {},
     "output_type": "execute_result"
    }
   ],
   "source": [
    "a =\"we are pakistan and we love our country\"\n",
    "\n",
    "#string[start:end:step]\n",
    "print(a[7:15:2])\n",
    "print(a[::-1])\n",
    "print(a.index(\"pak\"))\n",
    "\n",
    "a[a.index(\"pakistan\"):15]"
   ]
  },
  {
   "cell_type": "code",
   "execution_count": 94,
   "metadata": {},
   "outputs": [
    {
     "data": {
      "text/plain": [
       "'000000000000000000000000000000000000000000000000000000000000000000000000000000000we are pakistan and we love our country'"
      ]
     },
     "execution_count": 94,
     "metadata": {},
     "output_type": "execute_result"
    }
   ],
   "source": [
    "a.zfill(120)"
   ]
  },
  {
   "cell_type": "code",
   "execution_count": 103,
   "metadata": {},
   "outputs": [
    {
     "data": {
      "text/plain": [
       "True"
      ]
     },
     "execution_count": 103,
     "metadata": {},
     "output_type": "execute_result"
    }
   ],
   "source": [
    "b = \" \"\n",
    "b.isspace()\n"
   ]
  },
  {
   "cell_type": "code",
   "execution_count": 107,
   "metadata": {},
   "outputs": [
    {
     "name": "stdout",
     "output_type": "stream",
     "text": [
      "False\n"
     ]
    }
   ],
   "source": [
    "isal=\"abc123\"\n",
    "print(a.isalnum())\n"
   ]
  },
  {
   "cell_type": "code",
   "execution_count": 108,
   "metadata": {},
   "outputs": [
    {
     "name": "stdout",
     "output_type": "stream",
     "text": [
      "I,A,M,T,E,S,T,I,N,G\n"
     ]
    }
   ],
   "source": [
    "# join : returns a concatinated string\n",
    "string = 'IAMTESTING'\n",
    "sep = ','\n",
    "print(sep.join(string))"
   ]
  },
  {
   "cell_type": "code",
   "execution_count": 111,
   "metadata": {},
   "outputs": [
    {
     "name": "stdout",
     "output_type": "stream",
     "text": [
      "['pakistan', 'Isamabad']\n"
     ]
    }
   ],
   "source": [
    "name=\"pakistan Isamabad\"\n",
    "print(name.rsplit())#it returns the string in list"
   ]
  },
  {
   "cell_type": "code",
   "execution_count": 113,
   "metadata": {},
   "outputs": [
    {
     "name": "stdout",
     "output_type": "stream",
     "text": [
      "('PROGRAMMING is ', 'my ', 'passion')\n"
     ]
    }
   ],
   "source": [
    "# partition : Returns a Tuple\n",
    "string = \"PROGRAMMING is my passion\"\n",
    "print(string.partition('my '))"
   ]
  },
  {
   "cell_type": "code",
   "execution_count": 121,
   "metadata": {},
   "outputs": [
    {
     "data": {
      "text/plain": [
       "False"
      ]
     },
     "execution_count": 121,
     "metadata": {},
     "output_type": "execute_result"
    }
   ],
   "source": [
    "string.isnumeric()"
   ]
  },
  {
   "cell_type": "code",
   "execution_count": 128,
   "metadata": {},
   "outputs": [
    {
     "data": {
      "text/plain": [
       "True"
      ]
     },
     "execution_count": 128,
     "metadata": {},
     "output_type": "execute_result"
    }
   ],
   "source": [
    "string.isprintable()"
   ]
  },
  {
   "cell_type": "code",
   "execution_count": null,
   "metadata": {},
   "outputs": [],
   "source": []
  }
 ],
 "metadata": {
  "kernelspec": {
   "display_name": "Python 3",
   "language": "python",
   "name": "python3"
  },
  "language_info": {
   "codemirror_mode": {
    "name": "ipython",
    "version": 3
   },
   "file_extension": ".py",
   "mimetype": "text/x-python",
   "name": "python",
   "nbconvert_exporter": "python",
   "pygments_lexer": "ipython3",
   "version": "3.7.4"
  }
 },
 "nbformat": 4,
 "nbformat_minor": 2
}
