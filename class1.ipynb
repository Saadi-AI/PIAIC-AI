{
 "cells": [
  {
   "cell_type": "code",
   "execution_count": null,
   "metadata": {},
   "outputs": [],
   "source": [
    "print(\"Pakistan Zindabad\")\n",
    "print(\"we are pakistani\")"
   ]
  },
  {
   "cell_type": "code",
   "execution_count": null,
   "metadata": {},
   "outputs": [],
   "source": [
    "print(\"Hello World\")\n",
    "print(\"Hi\")"
   ]
  },
  {
   "cell_type": "code",
   "execution_count": null,
   "metadata": {},
   "outputs": [],
   "source": [
    "print(\"Hello WOlrd2\")"
   ]
  },
  {
   "cell_type": "code",
   "execution_count": null,
   "metadata": {},
   "outputs": [],
   "source": [
    "print(\"hello world\")"
   ]
  },
  {
   "cell_type": "markdown",
   "metadata": {},
   "source": [
    "# MY MARK"
   ]
  },
  {
   "cell_type": "markdown",
   "metadata": {},
   "source": []
  },
  {
   "cell_type": "code",
   "execution_count": null,
   "metadata": {},
   "outputs": [],
   "source": []
  },
  {
   "cell_type": "markdown",
   "metadata": {},
   "source": [
    "# Bahria University Islamabad\n",
    "- 12:15 to 03:15"
   ]
  },
  {
   "cell_type": "raw",
   "metadata": {},
   "source": [
    "function abc(a,b)\n",
    "{\n",
    "    return a+b;\n",
    "}"
   ]
  },
  {
   "cell_type": "code",
   "execution_count": null,
   "metadata": {},
   "outputs": [],
   "source": [
    "print('hii')"
   ]
  },
  {
   "cell_type": "code",
   "execution_count": null,
   "metadata": {},
   "outputs": [],
   "source": [
    "message = \"\"\"hello\"\"\""
   ]
  },
  {
   "cell_type": "code",
   "execution_count": null,
   "metadata": {},
   "outputs": [],
   "source": []
  },
  {
   "cell_type": "code",
   "execution_count": null,
   "metadata": {},
   "outputs": [],
   "source": [
    "print(message)"
   ]
  },
  {
   "cell_type": "markdown",
   "metadata": {},
   "source": [
    "name = \"Saad Khalil\"\n",
    "f_name = \"Khalil ur Rehman\"\n",
    "uni = \"COMSATS UNVERSITY\"\n",
    "message = \"\"\"\n",
    "PIAIC ISLAMABAD BATCH 3\n",
    "Name: {}\n",
    "Father Name: {} \n",
    "University: {}\n",
    "\"\"\"\n",
    "message1 = message.format(name, f_name, uni)\n",
    "print(message1)"
   ]
  },
  {
   "cell_type": "code",
   "execution_count": 9,
   "metadata": {},
   "outputs": [
    {
     "name": "stdout",
     "output_type": "stream",
     "text": [
      "Enter Your name:Saad\n",
      "Enter your father's nameKhalil\n",
      "Your univserity:COMSATS\n",
      "Enter marks for Physics:59\n",
      "Enter marks for Chemistry:69\n",
      "Enter marks for Maths:51\n",
      "Enter marks for Computer Science:52\n",
      "Enter marks for Biology:56\n",
      "\n",
      "PIAIC ISLAMABAD BATCH 3\n",
      "Name: Saad\n",
      "Father Name: Khalil \n",
      "University: COMSATS\n",
      "Phy marks: 59 Percentage: 79\n",
      "Chem marks: 69 Percentage: 92\n",
      "Math marks: 51  Percentage: 68\n",
      "CS marks: 52  Percentage: 69\n",
      "Bio marks: 56  Percentage: 75\n",
      "\n",
      "Total marks:           287/375\n",
      "Total Percentage: 77\n",
      "\n"
     ]
    }
   ],
   "source": [
    "\n",
    "name = input(\"Enter Your name:\")\n",
    "f_name = input(\"Enter your father's name\")\n",
    "uni = input(\"Your univserity:\")\n",
    "\n",
    "sub1 = int(input(\"Enter marks for Physics:\"))\n",
    "sub2 = int(input(\"Enter marks for Chemistry:\"))\n",
    "sub3 = int(input(\"Enter marks for Maths:\"))\n",
    "sub4 = int(input(\"Enter marks for Computer Science:\"))\n",
    "sub5 = int(input(\"Enter marks for Biology:\"))\n",
    "\n",
    "\n",
    "sub1_percent = round((sub1/75)*100)\n",
    "sub2_percent = round((sub2/75)*100)\n",
    "sub3_percent = round((sub3/75)*100)\n",
    "sub4_percent = round((sub4/75)*100)\n",
    "sub5_percent = round((sub5/75)*100)\n",
    "\n",
    "\n",
    "total_no = sub1 + sub2 + sub3 + sub4 + sub5\n",
    "total_percent = round(((sub1+sub2+sub3+sub4+sub5)/375)*100)\n",
    "\n",
    "message = \"\"\"\n",
    "PIAIC ISLAMABAD BATCH 3\n",
    "Name: {}\n",
    "Father Name: {} \n",
    "University: {}\n",
    "Phy marks: {} Percentage: {}\n",
    "Chem marks: {} Percentage: {}\n",
    "Math marks: {}  Percentage: {}\n",
    "CS marks: {}  Percentage: {}\n",
    "Bio marks: {}  Percentage: {}\n",
    "\n",
    "Total marks:           {}/375\n",
    "Total Percentage: {}\n",
    "\"\"\"\n",
    "message1 = message.format(name, f_name, uni, sub1,sub1_percent,sub2,sub2_percent,sub3,sub3_percent, sub4,sub4_percent, sub5, sub5_percent,total_no, total_percent)\n",
    "print(message1)\n",
    "\n",
    "\n",
    "\n",
    "\n",
    "\n"
   ]
  },
  {
   "cell_type": "code",
   "execution_count": null,
   "metadata": {},
   "outputs": [],
   "source": []
  },
  {
   "cell_type": "code",
   "execution_count": null,
   "metadata": {},
   "outputs": [],
   "source": []
  },
  {
   "cell_type": "code",
   "execution_count": null,
   "metadata": {},
   "outputs": [],
   "source": [
    "\n"
   ]
  },
  {
   "cell_type": "code",
   "execution_count": null,
   "metadata": {},
   "outputs": [],
   "source": []
  },
  {
   "cell_type": "code",
   "execution_count": null,
   "metadata": {},
   "outputs": [],
   "source": []
  },
  {
   "cell_type": "code",
   "execution_count": null,
   "metadata": {},
   "outputs": [],
   "source": []
  },
  {
   "cell_type": "code",
   "execution_count": null,
   "metadata": {},
   "outputs": [],
   "source": []
  },
  {
   "cell_type": "code",
   "execution_count": null,
   "metadata": {},
   "outputs": [],
   "source": []
  },
  {
   "cell_type": "code",
   "execution_count": null,
   "metadata": {},
   "outputs": [],
   "source": []
  },
  {
   "cell_type": "code",
   "execution_count": null,
   "metadata": {},
   "outputs": [],
   "source": []
  },
  {
   "cell_type": "code",
   "execution_count": null,
   "metadata": {},
   "outputs": [],
   "source": []
  },
  {
   "cell_type": "code",
   "execution_count": null,
   "metadata": {},
   "outputs": [],
   "source": []
  }
 ],
 "metadata": {
  "kernelspec": {
   "display_name": "Python 3",
   "language": "python",
   "name": "python3"
  },
  "language_info": {
   "codemirror_mode": {
    "name": "ipython",
    "version": 3
   },
   "file_extension": ".py",
   "mimetype": "text/x-python",
   "name": "python",
   "nbconvert_exporter": "python",
   "pygments_lexer": "ipython3",
   "version": "3.7.4"
  }
 },
 "nbformat": 4,
 "nbformat_minor": 2
}
